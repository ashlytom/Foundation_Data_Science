{
 "cells": [
  {
   "cell_type": "code",
   "execution_count": 1,
   "metadata": {},
   "outputs": [],
   "source": [
    "path_data ='C:/Users/ashme/Mtech AI/FDS/Lab Assignments/CSV Files/'\n",
    "\n",
    "import matplotlib.pyplot as plt\n",
    "import matplotlib.ticker as tick\n",
    "plt.style.use('fivethirtyeight')\n",
    "\n",
    "import numpy as np\n",
    "import pandas as pd\n",
    "\n",
    "import math\n",
    "import scipy.stats as stats\n",
    "from scipy import optimize\n"
   ]
  },
  {
   "cell_type": "code",
   "execution_count": 2,
   "metadata": {},
   "outputs": [],
   "source": [
    "def standard_units(any_numbers):\n",
    "    \"Convert any array of numbers to standard units.\"\n",
    "    return (any_numbers - np.mean(any_numbers))/np.std(any_numbers)"
   ]
  },
  {
   "cell_type": "code",
   "execution_count": 3,
   "metadata": {},
   "outputs": [],
   "source": [
    "def correlation(t, x, y):\n",
    "    return np.mean(standard_units(t[x]) * standard_units(t[y]))"
   ]
  },
  {
   "cell_type": "code",
   "execution_count": 4,
   "metadata": {},
   "outputs": [],
   "source": [
    "def minimize(f, start=None, smooth=False, log=None, array=False, **vargs):\n",
    "    \"\"\"Minimize a function f of one or more arguments.\n",
    "\n",
    "    Args:\n",
    "        f: A function that takes numbers and returns a number\n",
    "\n",
    "        start: A starting value or list of starting values\n",
    "\n",
    "        smooth: Whether to assume that f is smooth and use first-order info\n",
    "\n",
    "        log: Logging function called on the result of optimization (e.g. print)\n",
    "\n",
    "        vargs: Other named arguments passed to scipy.optimize.minimize\n",
    "\n",
    "    Returns either:\n",
    "        (a) the minimizing argument of a one-argument function\n",
    "        (b) an array of minimizing arguments of a multi-argument function\n",
    "    \"\"\"\n",
    "    if start is None:\n",
    "        assert not array, \"Please pass starting values explicitly when array=True\"\n",
    "        arg_count = f.__code__.co_argcount\n",
    "        assert arg_count > 0, \"Please pass starting values explicitly for variadic functions\"\n",
    "        start = [0] * arg_count\n",
    "    if not hasattr(start, '__len__'):\n",
    "        start = [start]\n",
    "\n",
    "    if array:\n",
    "        objective = f\n",
    "    else:\n",
    "        @functools.wraps(f)\n",
    "        def objective(args):\n",
    "            return f(*args)\n",
    "\n",
    "    if not smooth and 'method' not in vargs:\n",
    "        vargs['method'] = 'Powell'\n",
    "    result = optimize.minimize(objective, start, **vargs)\n",
    "    if log is not None:\n",
    "        log(result)\n",
    "    if len(start) == 1:\n",
    "        return result.x.item(0)\n",
    "    else:\n",
    "        return result.x"
   ]
  },
  {
   "cell_type": "markdown",
   "metadata": {},
   "source": [
    "## Home Prices"
   ]
  },
  {
   "cell_type": "code",
   "execution_count": 6,
   "metadata": {},
   "outputs": [
    {
     "data": {
      "text/html": [
       "<div>\n",
       "<style scoped>\n",
       "    .dataframe tbody tr th:only-of-type {\n",
       "        vertical-align: middle;\n",
       "    }\n",
       "\n",
       "    .dataframe tbody tr th {\n",
       "        vertical-align: top;\n",
       "    }\n",
       "\n",
       "    .dataframe thead th {\n",
       "        text-align: right;\n",
       "    }\n",
       "</style>\n",
       "<table border=\"1\" class=\"dataframe\">\n",
       "  <thead>\n",
       "    <tr style=\"text-align: right;\">\n",
       "      <th></th>\n",
       "      <th>SalePrice</th>\n",
       "      <th>1st Flr SF</th>\n",
       "      <th>2nd Flr SF</th>\n",
       "      <th>Total Bsmt SF</th>\n",
       "      <th>Garage Area</th>\n",
       "      <th>Wood Deck SF</th>\n",
       "      <th>Open Porch SF</th>\n",
       "      <th>Lot Area</th>\n",
       "      <th>Year Built</th>\n",
       "      <th>Yr Sold</th>\n",
       "    </tr>\n",
       "  </thead>\n",
       "  <tbody>\n",
       "    <tr>\n",
       "      <th>0</th>\n",
       "      <td>35000</td>\n",
       "      <td>498</td>\n",
       "      <td>0</td>\n",
       "      <td>498.0</td>\n",
       "      <td>216.0</td>\n",
       "      <td>0</td>\n",
       "      <td>0</td>\n",
       "      <td>8088</td>\n",
       "      <td>1922</td>\n",
       "      <td>2006</td>\n",
       "    </tr>\n",
       "    <tr>\n",
       "      <th>1</th>\n",
       "      <td>39300</td>\n",
       "      <td>334</td>\n",
       "      <td>0</td>\n",
       "      <td>0.0</td>\n",
       "      <td>0.0</td>\n",
       "      <td>0</td>\n",
       "      <td>0</td>\n",
       "      <td>5000</td>\n",
       "      <td>1946</td>\n",
       "      <td>2007</td>\n",
       "    </tr>\n",
       "    <tr>\n",
       "      <th>2</th>\n",
       "      <td>40000</td>\n",
       "      <td>649</td>\n",
       "      <td>668</td>\n",
       "      <td>649.0</td>\n",
       "      <td>250.0</td>\n",
       "      <td>0</td>\n",
       "      <td>54</td>\n",
       "      <td>8500</td>\n",
       "      <td>1920</td>\n",
       "      <td>2008</td>\n",
       "    </tr>\n",
       "    <tr>\n",
       "      <th>3</th>\n",
       "      <td>45000</td>\n",
       "      <td>612</td>\n",
       "      <td>0</td>\n",
       "      <td>0.0</td>\n",
       "      <td>308.0</td>\n",
       "      <td>0</td>\n",
       "      <td>0</td>\n",
       "      <td>5925</td>\n",
       "      <td>1940</td>\n",
       "      <td>2009</td>\n",
       "    </tr>\n",
       "    <tr>\n",
       "      <th>4</th>\n",
       "      <td>52000</td>\n",
       "      <td>729</td>\n",
       "      <td>0</td>\n",
       "      <td>270.0</td>\n",
       "      <td>0.0</td>\n",
       "      <td>0</td>\n",
       "      <td>0</td>\n",
       "      <td>4130</td>\n",
       "      <td>1935</td>\n",
       "      <td>2008</td>\n",
       "    </tr>\n",
       "    <tr>\n",
       "      <th>...</th>\n",
       "      <td>...</td>\n",
       "      <td>...</td>\n",
       "      <td>...</td>\n",
       "      <td>...</td>\n",
       "      <td>...</td>\n",
       "      <td>...</td>\n",
       "      <td>...</td>\n",
       "      <td>...</td>\n",
       "      <td>...</td>\n",
       "      <td>...</td>\n",
       "    </tr>\n",
       "    <tr>\n",
       "      <th>1997</th>\n",
       "      <td>584500</td>\n",
       "      <td>1933</td>\n",
       "      <td>1567</td>\n",
       "      <td>1733.0</td>\n",
       "      <td>959.0</td>\n",
       "      <td>870</td>\n",
       "      <td>86</td>\n",
       "      <td>17242</td>\n",
       "      <td>1993</td>\n",
       "      <td>2006</td>\n",
       "    </tr>\n",
       "    <tr>\n",
       "      <th>1998</th>\n",
       "      <td>610000</td>\n",
       "      <td>2674</td>\n",
       "      <td>0</td>\n",
       "      <td>2630.0</td>\n",
       "      <td>762.0</td>\n",
       "      <td>360</td>\n",
       "      <td>50</td>\n",
       "      <td>13693</td>\n",
       "      <td>2007</td>\n",
       "      <td>2009</td>\n",
       "    </tr>\n",
       "    <tr>\n",
       "      <th>1999</th>\n",
       "      <td>615000</td>\n",
       "      <td>2470</td>\n",
       "      <td>0</td>\n",
       "      <td>2535.0</td>\n",
       "      <td>789.0</td>\n",
       "      <td>154</td>\n",
       "      <td>65</td>\n",
       "      <td>12720</td>\n",
       "      <td>2003</td>\n",
       "      <td>2008</td>\n",
       "    </tr>\n",
       "    <tr>\n",
       "      <th>2000</th>\n",
       "      <td>625000</td>\n",
       "      <td>1831</td>\n",
       "      <td>1796</td>\n",
       "      <td>1930.0</td>\n",
       "      <td>807.0</td>\n",
       "      <td>361</td>\n",
       "      <td>76</td>\n",
       "      <td>35760</td>\n",
       "      <td>1995</td>\n",
       "      <td>2006</td>\n",
       "    </tr>\n",
       "    <tr>\n",
       "      <th>2001</th>\n",
       "      <td>755000</td>\n",
       "      <td>2444</td>\n",
       "      <td>1872</td>\n",
       "      <td>2444.0</td>\n",
       "      <td>832.0</td>\n",
       "      <td>382</td>\n",
       "      <td>50</td>\n",
       "      <td>21535</td>\n",
       "      <td>1994</td>\n",
       "      <td>2007</td>\n",
       "    </tr>\n",
       "  </tbody>\n",
       "</table>\n",
       "<p>2002 rows × 10 columns</p>\n",
       "</div>"
      ],
      "text/plain": [
       "      SalePrice  1st Flr SF  2nd Flr SF  Total Bsmt SF  Garage Area  \\\n",
       "0         35000         498           0          498.0        216.0   \n",
       "1         39300         334           0            0.0          0.0   \n",
       "2         40000         649         668          649.0        250.0   \n",
       "3         45000         612           0            0.0        308.0   \n",
       "4         52000         729           0          270.0          0.0   \n",
       "...         ...         ...         ...            ...          ...   \n",
       "1997     584500        1933        1567         1733.0        959.0   \n",
       "1998     610000        2674           0         2630.0        762.0   \n",
       "1999     615000        2470           0         2535.0        789.0   \n",
       "2000     625000        1831        1796         1930.0        807.0   \n",
       "2001     755000        2444        1872         2444.0        832.0   \n",
       "\n",
       "      Wood Deck SF  Open Porch SF  Lot Area  Year Built  Yr Sold  \n",
       "0                0              0      8088        1922     2006  \n",
       "1                0              0      5000        1946     2007  \n",
       "2                0             54      8500        1920     2008  \n",
       "3                0              0      5925        1940     2009  \n",
       "4                0              0      4130        1935     2008  \n",
       "...            ...            ...       ...         ...      ...  \n",
       "1997           870             86     17242        1993     2006  \n",
       "1998           360             50     13693        2007     2009  \n",
       "1999           154             65     12720        2003     2008  \n",
       "2000           361             76     35760        1995     2006  \n",
       "2001           382             50     21535        1994     2007  \n",
       "\n",
       "[2002 rows x 10 columns]"
      ]
     },
     "execution_count": 6,
     "metadata": {},
     "output_type": "execute_result"
    }
   ],
   "source": [
    "all_sales = pd.read_csv(path_data + 'house.csv')\n",
    "sales = all_sales[(all_sales['Bldg Type'] == '1Fam') & (all_sales['Sale Condition'] == 'Normal')][['SalePrice', '1st Flr SF', '2nd Flr SF', 'Total Bsmt SF', 'Garage Area', 'Wood Deck SF', 'Open Porch SF', 'Lot Area', 'Year Built', 'Yr Sold']]\n",
    "sales.sort_values('SalePrice', ascending=True).reset_index(drop=True)"
   ]
  },
  {
   "cell_type": "code",
   "execution_count": 10,
   "metadata": {},
   "outputs": [
    {
     "data": {
      "image/png": "[encoded data removed]",
      "text/plain": [
       "<Figure size 432x288 with 1 Axes>"
      ]
     },
     "metadata": {},
     "output_type": "display_data"
    }
   ],
   "source": [
    "data = sales['SalePrice']\n",
    "fig, ax = plt.subplots()\n",
    "n, bins, patches = ax.hist(data, bins=32, density=True)\n",
    "ax.set_xlabel('SalePrice ($)')\n",
    "ax.set_ylabel('Percent per $')\n",
    "ax.yaxis.set_major_formatter(tick.FuncFormatter(lambda x,_: f'{(x * 100):.4f}'))\n",
    "plt.xticks(rotation=90)\n",
    "plt.show()"
   ]
  },
  {
   "cell_type": "markdown",
   "metadata": {},
   "source": [
    "#### Correlation"
   ]
  },
  {
   "cell_type": "code",
   "execution_count": 12,
   "metadata": {},
   "outputs": [
    {
     "data": {
      "image/png": "[encoded data removed]",
      "text/plain": [
       "<Figure size 432x288 with 1 Axes>"
      ]
     },
     "metadata": {},
     "output_type": "display_data"
    }
   ],
   "source": [
    "plt.scatter(sales['1st Flr SF'], sales['SalePrice'],  s=10)\n",
    "plt.xlabel('1st Flr SF')\n",
    "plt.ylabel('SalePrice')\n",
    "plt.grid(True)\n",
    "plt.show()"
   ]
  },
  {
   "cell_type": "code",
   "execution_count": 13,
   "metadata": {},
   "outputs": [
    {
     "data": {
      "text/plain": [
       "0.6424662541030225"
      ]
     },
     "execution_count": 13,
     "metadata": {},
     "output_type": "execute_result"
    }
   ],
   "source": [
    "correlation(sales, 'SalePrice', '1st Flr SF')"
   ]
  },
  {
   "cell_type": "code",
   "execution_count": 14,
   "metadata": {},
   "outputs": [
    {
     "name": "stdout",
     "output_type": "stream",
     "text": [
      "Correlation of SalePrice and SalePrice:\t 1.0\n",
      "Correlation of 1st Flr SF and SalePrice:\t 0.6424662541030225\n",
      "Correlation of 2nd Flr SF and SalePrice:\t 0.3575218942800824\n",
      "Correlation of Total Bsmt SF and SalePrice:\t 0.652978626757169\n",
      "Correlation of Garage Area and SalePrice:\t 0.6385944852520443\n",
      "Correlation of Wood Deck SF and SalePrice:\t 0.3526986661950492\n",
      "Correlation of Open Porch SF and SalePrice:\t 0.3369094170263733\n",
      "Correlation of Lot Area and SalePrice:\t 0.2908234551157694\n",
      "Correlation of Year Built and SalePrice:\t 0.5651647537135916\n",
      "Correlation of Yr Sold and SalePrice:\t 0.02594857908072111\n"
     ]
    }
   ],
   "source": [
    "for label in sales:\n",
    "    print('Correlation of', label, 'and SalePrice:\\t', correlation(sales, label, 'SalePrice'))"
   ]
  },
  {
   "cell_type": "code",
   "execution_count": 15,
   "metadata": {},
   "outputs": [
    {
     "data": {
      "text/plain": [
       "0.7821920556134877"
      ]
     },
     "execution_count": 15,
     "metadata": {},
     "output_type": "execute_result"
    }
   ],
   "source": [
    "both_floors = sales['1st Flr SF'] + sales['2nd Flr SF']\n",
    "data = sales.copy()\n",
    "data['Both Floors'] = both_floors\n",
    "correlation(data, 'SalePrice', 'Both Floors')"
   ]
  },
  {
   "cell_type": "markdown",
   "metadata": {},
   "source": [
    "## Multiple Linear Regression"
   ]
  },
  {
   "cell_type": "code",
   "execution_count": 16,
   "metadata": {},
   "outputs": [
    {
     "name": "stdout",
     "output_type": "stream",
     "text": [
      "1001 training and 1001 test instances.\n"
     ]
    }
   ],
   "source": [
    "train, test = sales.iloc[0:1001,:].reset_index(drop=True), sales.iloc[1001:,:].reset_index(drop=True)\n",
    "print(train.shape[0], 'training and', test.shape[0], 'test instances.')"
   ]
  },
  {
   "cell_type": "code",
   "execution_count": 17,
   "metadata": {},
   "outputs": [],
   "source": [
    "def predict(slopes, row):\n",
    "    return sum(slopes * np.array(row))"
   ]
  },
  {
   "cell_type": "code",
   "execution_count": 18,
   "metadata": {},
   "outputs": [
    {
     "data": {
      "text/html": [
       "<div>\n",
       "<style scoped>\n",
       "    .dataframe tbody tr th:only-of-type {\n",
       "        vertical-align: middle;\n",
       "    }\n",
       "\n",
       "    .dataframe tbody tr th {\n",
       "        vertical-align: top;\n",
       "    }\n",
       "\n",
       "    .dataframe thead th {\n",
       "        text-align: right;\n",
       "    }\n",
       "</style>\n",
       "<table border=\"1\" class=\"dataframe\">\n",
       "  <thead>\n",
       "    <tr style=\"text-align: right;\">\n",
       "      <th></th>\n",
       "      <th>1st Flr SF</th>\n",
       "      <th>2nd Flr SF</th>\n",
       "      <th>Total Bsmt SF</th>\n",
       "      <th>Garage Area</th>\n",
       "      <th>Wood Deck SF</th>\n",
       "      <th>Open Porch SF</th>\n",
       "      <th>Lot Area</th>\n",
       "      <th>Year Built</th>\n",
       "      <th>Yr Sold</th>\n",
       "    </tr>\n",
       "  </thead>\n",
       "  <tbody>\n",
       "    <tr>\n",
       "      <th>0</th>\n",
       "      <td>672</td>\n",
       "      <td>0</td>\n",
       "      <td>672.0</td>\n",
       "      <td>240.0</td>\n",
       "      <td>168</td>\n",
       "      <td>0</td>\n",
       "      <td>10200</td>\n",
       "      <td>1940</td>\n",
       "      <td>2008</td>\n",
       "    </tr>\n",
       "  </tbody>\n",
       "</table>\n",
       "</div>"
      ],
      "text/plain": [
       "   1st Flr SF  2nd Flr SF  Total Bsmt SF  Garage Area  Wood Deck SF  \\\n",
       "0         672           0          672.0        240.0           168   \n",
       "\n",
       "   Open Porch SF  Lot Area  Year Built  Yr Sold  \n",
       "0              0     10200        1940     2008  "
      ]
     },
     "execution_count": 18,
     "metadata": {},
     "output_type": "execute_result"
    }
   ],
   "source": [
    "data = test.copy()\n",
    "del data['SalePrice']\n",
    "data.head(1)"
   ]
  },
  {
   "cell_type": "code",
   "execution_count": 19,
   "metadata": {},
   "outputs": [
    {
     "name": "stdout",
     "output_type": "stream",
     "text": [
      "Predicting sale price for:\n",
      " 1st Flr SF         672.0\n",
      "2nd Flr SF           0.0\n",
      "Total Bsmt SF      672.0\n",
      "Garage Area        240.0\n",
      "Wood Deck SF       168.0\n",
      "Open Porch SF        0.0\n",
      "Lot Area         10200.0\n",
      "Year Built        1940.0\n",
      "Yr Sold           2008.0\n",
      "Name: 0, dtype: float64\n"
     ]
    }
   ],
   "source": [
    "example_row = data.loc[0]\n",
    "print('Predicting sale price for:\\n', example_row)"
   ]
  },
  {
   "cell_type": "code",
   "execution_count": 20,
   "metadata": {},
   "outputs": [
    {
     "name": "stdout",
     "output_type": "stream",
     "text": [
      "Using slopes: [ 9.44117161  9.78972435  8.65920524 10.1146813   8.34490826 10.28920489\n",
      "  9.70100833 11.47258647  8.76757294]\n",
      "Result: 154805.31055336684\n"
     ]
    }
   ],
   "source": [
    "example_slopes = np.random.normal(10, 1, len(example_row))\n",
    "print('Using slopes:', example_slopes)\n",
    "print('Result:', predict(example_slopes, example_row))"
   ]
  },
  {
   "cell_type": "code",
   "execution_count": 21,
   "metadata": {},
   "outputs": [
    {
     "name": "stdout",
     "output_type": "stream",
     "text": [
      "Actual sale price: 108000\n",
      "Predicted sale price using random slopes: 154805.31055336684\n"
     ]
    }
   ],
   "source": [
    "print('Actual sale price:', test['SalePrice'].loc[0])\n",
    "print('Predicted sale price using random slopes:', predict(example_slopes, example_row))"
   ]
  },
  {
   "cell_type": "markdown",
   "metadata": {},
   "source": [
    "#### Least Squares Regression"
   ]
  },
  {
   "cell_type": "code",
   "execution_count": 22,
   "metadata": {},
   "outputs": [],
   "source": [
    "train_prices = train['SalePrice']\n",
    "train_attributes = train.copy()\n",
    "del train_attributes['SalePrice']"
   ]
  },
  {
   "cell_type": "code",
   "execution_count": 23,
   "metadata": {},
   "outputs": [],
   "source": [
    "def rmse(slopes, attributes, prices):\n",
    "    errors = []\n",
    "    for i in np.arange(len(prices)):\n",
    "        predicted = predict(slopes, attributes.loc[i])\n",
    "        actual = prices[i]\n",
    "        errors.append((predicted - actual) ** 2)\n",
    "    return np.mean(errors) ** 0.5"
   ]
  },
  {
   "cell_type": "code",
   "execution_count": 24,
   "metadata": {},
   "outputs": [
    {
     "name": "stdout",
     "output_type": "stream",
     "text": [
      "RMSE of all training examples using random slopes: 85329.95376221352\n"
     ]
    }
   ],
   "source": [
    "def rmse_train(slopes):\n",
    "    return rmse(slopes, train_attributes, train_prices)\n",
    "\n",
    "print('RMSE of all training examples using random slopes:', rmse_train(example_slopes))"
   ]
  },
  {
   "cell_type": "code",
   "execution_count": 25,
   "metadata": {},
   "outputs": [
    {
     "data": {
      "text/html": [
       "<div>\n",
       "<style scoped>\n",
       "    .dataframe tbody tr th:only-of-type {\n",
       "        vertical-align: middle;\n",
       "    }\n",
       "\n",
       "    .dataframe tbody tr th {\n",
       "        vertical-align: top;\n",
       "    }\n",
       "\n",
       "    .dataframe thead th {\n",
       "        text-align: right;\n",
       "    }\n",
       "</style>\n",
       "<table border=\"1\" class=\"dataframe\">\n",
       "  <thead>\n",
       "    <tr style=\"text-align: right;\">\n",
       "      <th></th>\n",
       "      <th>1st Flr SF</th>\n",
       "      <th>2nd Flr SF</th>\n",
       "      <th>Total Bsmt SF</th>\n",
       "      <th>Garage Area</th>\n",
       "      <th>Wood Deck SF</th>\n",
       "      <th>Open Porch SF</th>\n",
       "      <th>Lot Area</th>\n",
       "      <th>Year Built</th>\n",
       "      <th>Yr Sold</th>\n",
       "    </tr>\n",
       "  </thead>\n",
       "  <tbody>\n",
       "    <tr>\n",
       "      <th>0</th>\n",
       "      <td>72.685742</td>\n",
       "      <td>70.468666</td>\n",
       "      <td>51.194651</td>\n",
       "      <td>55.098065</td>\n",
       "      <td>25.623439</td>\n",
       "      <td>51.7468</td>\n",
       "      <td>0.640872</td>\n",
       "      <td>574.907037</td>\n",
       "      <td>-572.344231</td>\n",
       "    </tr>\n",
       "  </tbody>\n",
       "</table>\n",
       "</div>"
      ],
      "text/plain": [
       "   1st Flr SF  2nd Flr SF  Total Bsmt SF  Garage Area  Wood Deck SF  \\\n",
       "0   72.685742   70.468666      51.194651    55.098065     25.623439   \n",
       "\n",
       "   Open Porch SF  Lot Area  Year Built     Yr Sold  \n",
       "0        51.7468  0.640872  574.907037 -572.344231  "
      ]
     },
     "execution_count": 25,
     "metadata": {},
     "output_type": "execute_result"
    }
   ],
   "source": [
    "best_slopes = minimize(rmse_train, start=example_slopes, smooth=True, array=True)\n",
    "slopes = pd.DataFrame(columns = train_attributes.columns)\n",
    "slopes.loc[0] = list(best_slopes)\n",
    "slopes"
   ]
  },
  {
   "cell_type": "code",
   "execution_count": 26,
   "metadata": {},
   "outputs": [
    {
     "name": "stdout",
     "output_type": "stream",
     "text": [
      "RMSE of all training examples using the best slopes: 30804.715196427387\n"
     ]
    }
   ],
   "source": [
    "print('RMSE of all training examples using the best slopes:', rmse_train(best_slopes))"
   ]
  },
  {
   "cell_type": "markdown",
   "metadata": {},
   "source": [
    "#### Interpreting Multiple Regression "
   ]
  },
  {
   "cell_type": "code",
   "execution_count": 27,
   "metadata": {},
   "outputs": [],
   "source": [
    "test_prices = test['SalePrice']\n",
    "test_attributes = test.copy()\n",
    "del test_attributes['SalePrice']"
   ]
  },
  {
   "cell_type": "code",
   "execution_count": 28,
   "metadata": {},
   "outputs": [],
   "source": [
    "def rmse_test(slopes):\n",
    "    return rmse(slopes, test_attributes, test_prices)"
   ]
  },
  {
   "cell_type": "code",
   "execution_count": 29,
   "metadata": {},
   "outputs": [
    {
     "name": "stdout",
     "output_type": "stream",
     "text": [
      "Test set RMSE for multiple linear regression: 31776.701802844877\n"
     ]
    }
   ],
   "source": [
    "rmse_linear = rmse_test(best_slopes)\n",
    "print('Test set RMSE for multiple linear regression:', rmse_linear)"
   ]
  },
  {
   "cell_type": "code",
   "execution_count": 36,
   "metadata": {},
   "outputs": [],
   "source": [
    "def fit(row):\n",
    "    return sum(best_slopes * np.array(row))\n",
    "\n",
    "data = test.copy()\n",
    "del data['SalePrice']"
   ]
  },
  {
   "cell_type": "code",
   "execution_count": 37,
   "metadata": {},
   "outputs": [
    {
     "data": {
      "image/png": "[encoded data removed]",
      "text/plain": [
       "<Figure size 432x288 with 1 Axes>"
      ]
     },
     "metadata": {},
     "output_type": "display_data"
    }
   ],
   "source": [
    "fitted = []\n",
    "for row in range(data.shape[0]):\n",
    "    fitted.append(fit(data.loc[row]))\n",
    "    \n",
    "data['Fitted'] = fitted\n",
    "plt.scatter(data['Fitted'], test['SalePrice'], s=15,color='red')\n",
    "plt.plot([0, 5e5], [0, 5e5]);\n",
    "plt.xlabel('Fitted')\n",
    "plt.ylabel('SalePrice')\n",
    "plt.show()"
   ]
  },
  {
   "cell_type": "code",
   "execution_count": 38,
   "metadata": {},
   "outputs": [
    {
     "data": {
      "image/png": "[encoded data removed]",
      "text/plain": [
       "<Figure size 432x288 with 1 Axes>"
      ]
     },
     "metadata": {},
     "output_type": "display_data"
    }
   ],
   "source": [
    "data = test.copy()\n",
    "temp_data = test.copy()\n",
    "del temp_data['SalePrice']\n",
    "\n",
    "fitted = []\n",
    "for row_number in range(temp_data.shape[0]):\n",
    "    fitted.append(fit(temp_data.loc[row_number]))\n",
    "\n",
    "data['Residual'] = test_prices - fitted\n",
    "\n",
    "plt.scatter(data['SalePrice'], data['Residual'], s=15, color='red')\n",
    "plt.plot([0, 7e5], [0, 0]);\n",
    "plt.xlabel('SalePrice')\n",
    "plt.ylabel('Residual')\n",
    "plt.show()"
   ]
  },
  {
   "cell_type": "markdown",
   "metadata": {},
   "source": [
    "## Nearest Neighbors for Regression"
   ]
  },
  {
   "cell_type": "code",
   "execution_count": 39,
   "metadata": {},
   "outputs": [
    {
     "data": {
      "text/html": [
       "<div>\n",
       "<style scoped>\n",
       "    .dataframe tbody tr th:only-of-type {\n",
       "        vertical-align: middle;\n",
       "    }\n",
       "\n",
       "    .dataframe tbody tr th {\n",
       "        vertical-align: top;\n",
       "    }\n",
       "\n",
       "    .dataframe thead th {\n",
       "        text-align: right;\n",
       "    }\n",
       "</style>\n",
       "<table border=\"1\" class=\"dataframe\">\n",
       "  <thead>\n",
       "    <tr style=\"text-align: right;\">\n",
       "      <th></th>\n",
       "      <th>SalePrice</th>\n",
       "      <th>1st Flr SF</th>\n",
       "      <th>2nd Flr SF</th>\n",
       "      <th>Total Bsmt SF</th>\n",
       "      <th>Garage Area</th>\n",
       "      <th>Year Built</th>\n",
       "    </tr>\n",
       "  </thead>\n",
       "  <tbody>\n",
       "    <tr>\n",
       "      <th>0</th>\n",
       "      <td>215000</td>\n",
       "      <td>1656</td>\n",
       "      <td>0</td>\n",
       "      <td>1080.0</td>\n",
       "      <td>528.0</td>\n",
       "      <td>1960</td>\n",
       "    </tr>\n",
       "    <tr>\n",
       "      <th>1</th>\n",
       "      <td>105000</td>\n",
       "      <td>896</td>\n",
       "      <td>0</td>\n",
       "      <td>882.0</td>\n",
       "      <td>730.0</td>\n",
       "      <td>1961</td>\n",
       "    </tr>\n",
       "    <tr>\n",
       "      <th>2</th>\n",
       "      <td>172000</td>\n",
       "      <td>1329</td>\n",
       "      <td>0</td>\n",
       "      <td>1329.0</td>\n",
       "      <td>312.0</td>\n",
       "      <td>1958</td>\n",
       "    </tr>\n",
       "    <tr>\n",
       "      <th>3</th>\n",
       "      <td>244000</td>\n",
       "      <td>2110</td>\n",
       "      <td>0</td>\n",
       "      <td>2110.0</td>\n",
       "      <td>522.0</td>\n",
       "      <td>1968</td>\n",
       "    </tr>\n",
       "    <tr>\n",
       "      <th>4</th>\n",
       "      <td>189900</td>\n",
       "      <td>928</td>\n",
       "      <td>701</td>\n",
       "      <td>928.0</td>\n",
       "      <td>482.0</td>\n",
       "      <td>1997</td>\n",
       "    </tr>\n",
       "  </tbody>\n",
       "</table>\n",
       "</div>"
      ],
      "text/plain": [
       "   SalePrice  1st Flr SF  2nd Flr SF  Total Bsmt SF  Garage Area  Year Built\n",
       "0     215000        1656           0         1080.0        528.0        1960\n",
       "1     105000         896           0          882.0        730.0        1961\n",
       "2     172000        1329           0         1329.0        312.0        1958\n",
       "3     244000        2110           0         2110.0        522.0        1968\n",
       "4     189900         928         701          928.0        482.0        1997"
      ]
     },
     "execution_count": 39,
     "metadata": {},
     "output_type": "execute_result"
    }
   ],
   "source": [
    "train_nn = train.iloc[:,[0, 1, 2, 3, 4, 8]]\n",
    "train_nn.head(5)"
   ]
  },
  {
   "cell_type": "code",
   "execution_count": 40,
   "metadata": {},
   "outputs": [
    {
     "data": {
      "text/html": [
       "<div>\n",
       "<style scoped>\n",
       "    .dataframe tbody tr th:only-of-type {\n",
       "        vertical-align: middle;\n",
       "    }\n",
       "\n",
       "    .dataframe tbody tr th {\n",
       "        vertical-align: top;\n",
       "    }\n",
       "\n",
       "    .dataframe thead th {\n",
       "        text-align: right;\n",
       "    }\n",
       "</style>\n",
       "<table border=\"1\" class=\"dataframe\">\n",
       "  <thead>\n",
       "    <tr style=\"text-align: right;\">\n",
       "      <th></th>\n",
       "      <th>SalePrice</th>\n",
       "      <th>1st Flr SF</th>\n",
       "      <th>2nd Flr SF</th>\n",
       "      <th>Total Bsmt SF</th>\n",
       "      <th>Garage Area</th>\n",
       "      <th>Year Built</th>\n",
       "    </tr>\n",
       "  </thead>\n",
       "  <tbody>\n",
       "    <tr>\n",
       "      <th>0</th>\n",
       "      <td>108000</td>\n",
       "      <td>672</td>\n",
       "      <td>0</td>\n",
       "      <td>672.0</td>\n",
       "      <td>240.0</td>\n",
       "      <td>1940</td>\n",
       "    </tr>\n",
       "    <tr>\n",
       "      <th>1</th>\n",
       "      <td>152400</td>\n",
       "      <td>864</td>\n",
       "      <td>486</td>\n",
       "      <td>576.0</td>\n",
       "      <td>627.0</td>\n",
       "      <td>1941</td>\n",
       "    </tr>\n",
       "    <tr>\n",
       "      <th>2</th>\n",
       "      <td>144000</td>\n",
       "      <td>904</td>\n",
       "      <td>0</td>\n",
       "      <td>864.0</td>\n",
       "      <td>912.0</td>\n",
       "      <td>1970</td>\n",
       "    </tr>\n",
       "    <tr>\n",
       "      <th>3</th>\n",
       "      <td>173000</td>\n",
       "      <td>1291</td>\n",
       "      <td>0</td>\n",
       "      <td>1291.0</td>\n",
       "      <td>431.0</td>\n",
       "      <td>1996</td>\n",
       "    </tr>\n",
       "    <tr>\n",
       "      <th>4</th>\n",
       "      <td>192000</td>\n",
       "      <td>1156</td>\n",
       "      <td>866</td>\n",
       "      <td>1160.0</td>\n",
       "      <td>505.0</td>\n",
       "      <td>1977</td>\n",
       "    </tr>\n",
       "  </tbody>\n",
       "</table>\n",
       "</div>"
      ],
      "text/plain": [
       "   SalePrice  1st Flr SF  2nd Flr SF  Total Bsmt SF  Garage Area  Year Built\n",
       "0     108000         672           0          672.0        240.0        1940\n",
       "1     152400         864         486          576.0        627.0        1941\n",
       "2     144000         904           0          864.0        912.0        1970\n",
       "3     173000        1291           0         1291.0        431.0        1996\n",
       "4     192000        1156         866         1160.0        505.0        1977"
      ]
     },
     "execution_count": 40,
     "metadata": {},
     "output_type": "execute_result"
    }
   ],
   "source": [
    "test_nn = test.iloc[:,[0, 1, 2, 3, 4, 8]]\n",
    "test_nn.head()"
   ]
  },
  {
   "cell_type": "code",
   "execution_count": 41,
   "metadata": {},
   "outputs": [],
   "source": [
    "def distance(pt1, pt2):\n",
    "    \"\"\"The distance between two points, represented as arrays.\"\"\"\n",
    "    return np.sqrt(sum((pt1 - pt2) ** 2))\n",
    "\n",
    "def row_distance(row1, row2):\n",
    "    \"\"\"The distance between two rows of a table.\"\"\"\n",
    "    return distance(np.array(row1), np.array(row2))\n",
    "\n",
    "def distances(training, example, output):\n",
    "    \"\"\"Compute the distance from example for each row in training.\"\"\"\n",
    "    dists = []\n",
    "    attributes = training.copy().reset_index(drop=True)\n",
    "    del attributes[output]\n",
    "    for row_number in range(len(attributes)):\n",
    "        dists.append(row_distance(attributes.loc[row_number], example))\n",
    "    data = training.copy()\n",
    "    data['Distance'] = dists\n",
    "    return data\n",
    "\n",
    "def closest(training, example, k, output):\n",
    "    \"\"\"Return a table of the k closest neighbors to example.\"\"\"\n",
    "    dists = distances(training, example, output).copy()\n",
    "    sorted_by_distance = dists.sort_values(by='Distance', ascending=True).reset_index(drop=True)\n",
    "    topk = sorted_by_distance.head(k)\n",
    "    return topk"
   ]
  },
  {
   "cell_type": "code",
   "execution_count": 42,
   "metadata": {},
   "outputs": [
    {
     "data": {
      "text/html": [
       "<div>\n",
       "<style scoped>\n",
       "    .dataframe tbody tr th:only-of-type {\n",
       "        vertical-align: middle;\n",
       "    }\n",
       "\n",
       "    .dataframe tbody tr th {\n",
       "        vertical-align: top;\n",
       "    }\n",
       "\n",
       "    .dataframe thead th {\n",
       "        text-align: right;\n",
       "    }\n",
       "</style>\n",
       "<table border=\"1\" class=\"dataframe\">\n",
       "  <thead>\n",
       "    <tr style=\"text-align: right;\">\n",
       "      <th></th>\n",
       "      <th>SalePrice</th>\n",
       "      <th>1st Flr SF</th>\n",
       "      <th>2nd Flr SF</th>\n",
       "      <th>Total Bsmt SF</th>\n",
       "      <th>Garage Area</th>\n",
       "      <th>Year Built</th>\n",
       "      <th>Distance</th>\n",
       "    </tr>\n",
       "  </thead>\n",
       "  <tbody>\n",
       "    <tr>\n",
       "      <th>0</th>\n",
       "      <td>113000</td>\n",
       "      <td>672</td>\n",
       "      <td>0</td>\n",
       "      <td>672.0</td>\n",
       "      <td>234.0</td>\n",
       "      <td>1941</td>\n",
       "      <td>6.082763</td>\n",
       "    </tr>\n",
       "    <tr>\n",
       "      <th>1</th>\n",
       "      <td>64000</td>\n",
       "      <td>672</td>\n",
       "      <td>0</td>\n",
       "      <td>672.0</td>\n",
       "      <td>256.0</td>\n",
       "      <td>1940</td>\n",
       "      <td>16.000000</td>\n",
       "    </tr>\n",
       "    <tr>\n",
       "      <th>2</th>\n",
       "      <td>86900</td>\n",
       "      <td>672</td>\n",
       "      <td>0</td>\n",
       "      <td>672.0</td>\n",
       "      <td>308.0</td>\n",
       "      <td>1940</td>\n",
       "      <td>68.000000</td>\n",
       "    </tr>\n",
       "    <tr>\n",
       "      <th>3</th>\n",
       "      <td>118900</td>\n",
       "      <td>732</td>\n",
       "      <td>0</td>\n",
       "      <td>732.0</td>\n",
       "      <td>240.0</td>\n",
       "      <td>1952</td>\n",
       "      <td>85.697141</td>\n",
       "    </tr>\n",
       "    <tr>\n",
       "      <th>4</th>\n",
       "      <td>80000</td>\n",
       "      <td>747</td>\n",
       "      <td>0</td>\n",
       "      <td>747.0</td>\n",
       "      <td>220.0</td>\n",
       "      <td>1945</td>\n",
       "      <td>108.050914</td>\n",
       "    </tr>\n",
       "  </tbody>\n",
       "</table>\n",
       "</div>"
      ],
      "text/plain": [
       "   SalePrice  1st Flr SF  2nd Flr SF  Total Bsmt SF  Garage Area  Year Built  \\\n",
       "0     113000         672           0          672.0        234.0        1941   \n",
       "1      64000         672           0          672.0        256.0        1940   \n",
       "2      86900         672           0          672.0        308.0        1940   \n",
       "3     118900         732           0          732.0        240.0        1952   \n",
       "4      80000         747           0          747.0        220.0        1945   \n",
       "\n",
       "     Distance  \n",
       "0    6.082763  \n",
       "1   16.000000  \n",
       "2   68.000000  \n",
       "3   85.697141  \n",
       "4  108.050914  "
      ]
     },
     "execution_count": 42,
     "metadata": {},
     "output_type": "execute_result"
    }
   ],
   "source": [
    "data = test_nn.copy()\n",
    "del data['SalePrice']\n",
    "example_nn_row = data.loc[0]\n",
    "closest(train_nn, example_nn_row, 5, 'SalePrice')"
   ]
  },
  {
   "cell_type": "code",
   "execution_count": 43,
   "metadata": {},
   "outputs": [
    {
     "data": {
      "text/plain": [
       "92560.0"
      ]
     },
     "execution_count": 43,
     "metadata": {},
     "output_type": "execute_result"
    }
   ],
   "source": [
    "def predict_nn(example):\n",
    "    \"\"\"Return the majority class among the k nearest neighbors.\"\"\"\n",
    "    return np.average(closest(train_nn, example, 5, 'SalePrice')['SalePrice'])\n",
    "\n",
    "predict_nn(example_nn_row)"
   ]
  },
  {
   "cell_type": "code",
   "execution_count": 44,
   "metadata": {},
   "outputs": [
    {
     "name": "stdout",
     "output_type": "stream",
     "text": [
      "Actual sale price: 108000\n",
      "Predicted sale price using nearest neighbors: 92560.0\n"
     ]
    }
   ],
   "source": [
    "print('Actual sale price:', test_nn['SalePrice'][0])\n",
    "print('Predicted sale price using nearest neighbors:', predict_nn(example_nn_row))"
   ]
  },
  {
   "cell_type": "markdown",
   "metadata": {},
   "source": [
    "#### Evaluation"
   ]
  },
  {
   "cell_type": "code",
   "execution_count": 45,
   "metadata": {},
   "outputs": [
    {
     "name": "stdout",
     "output_type": "stream",
     "text": [
      "Test set RMSE for multiple linear regression:  31776.701802844877\n",
      "Test set RMSE for nearest neighbor regression: 34461.46192940294\n"
     ]
    }
   ],
   "source": [
    "data = test_nn.copy()\n",
    "del test_nn['SalePrice']\n",
    "nn_test_predictions = []\n",
    "for row_number in range(test_nn.shape[0]):\n",
    "    nn_test_predictions.append(predict_nn(test_nn.loc[row_number]))\n",
    "    \n",
    "rmse_nn = np.mean((test_prices - nn_test_predictions) ** 2) ** 0.5\n",
    "\n",
    "print('Test set RMSE for multiple linear regression: ', rmse_linear)\n",
    "print('Test set RMSE for nearest neighbor regression:', rmse_nn)"
   ]
  },
  {
   "cell_type": "code",
   "execution_count": 48,
   "metadata": {},
   "outputs": [
    {
     "data": {
      "image/png": "[encoded data removed]",
      "text/plain": [
       "<Figure size 432x288 with 1 Axes>"
      ]
     },
     "metadata": {},
     "output_type": "display_data"
    }
   ],
   "source": [
    "data = test.copy()\n",
    "data['Residual'] = test_prices - nn_test_predictions\n",
    "plt.scatter(data['SalePrice'], data['Residual'], s=15, color='red')\n",
    "plt.plot([0, 7e5], [0, 0]);\n",
    "plt.xlabel('SalePrice')\n",
    "plt.ylabel('Residual')\n",
    "plt.show()"
   ]
  },
  {
   "cell_type": "markdown",
   "metadata": {},
   "source": [
    "End of Chapter 17\n"
   ]
  },
  {
   "cell_type": "markdown",
   "metadata": {},
   "source": [
    "************"
   ]
  }
 ],
 "metadata": {
  "kernelspec": {
   "display_name": "Python 3",
   "language": "python",
   "name": "python3"
  },
  "language_info": {
   "codemirror_mode": {
    "name": "ipython",
    "version": 3
   },
   "file_extension": ".py",
   "mimetype": "text/x-python",
   "name": "python",
   "nbconvert_exporter": "python",
   "pygments_lexer": "ipython3",
   "version": "3.8.3"
  }
 },
 "nbformat": 4,
 "nbformat_minor": 4
}
